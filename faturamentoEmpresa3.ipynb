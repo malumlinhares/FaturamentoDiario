{
 "cells": [
  {
   "cell_type": "code",
   "execution_count": null,
   "metadata": {},
   "outputs": [],
   "source": [
    "import json"
   ]
  },
  {
   "cell_type": "code",
   "execution_count": null,
   "metadata": {},
   "outputs": [],
   "source": [
    "#Guardando os dados do json em um dicionario com nome dados\n",
    "with open ('dados.json', 'r') as arquivo:\n",
    "    dados = json.load(arquivo)"
   ]
  },
  {
   "cell_type": "code",
   "execution_count": null,
   "metadata": {},
   "outputs": [],
   "source": [
    "#inserindo apenas os valores (diferente de 0) do dicionario dados em um vetor com nome 'faturamento'\n",
    "faturamento = []\n",
    "for fat in dados:\n",
    "    if fat['valor'] !=0:\n",
    "        faturamento.append(fat['valor'])\n"
   ]
  },
  {
   "cell_type": "code",
   "execution_count": null,
   "metadata": {},
   "outputs": [],
   "source": [
    "#O menor valor de faturamento ocorrido em um dia do mês;\n",
    "def menorValor(listaFaturamento):\n",
    "    menorValor=faturamento[0]\n",
    "    for i in range(1, len(faturamento)):\n",
    "        if menorValor>faturamento[i]:\n",
    "            menorValor=faturamento[i]\n",
    "    return f'O menor valor de faturamento ocorrido em um dia do mes foi {menorValor}.'\n"
   ]
  },
  {
   "cell_type": "code",
   "execution_count": null,
   "metadata": {},
   "outputs": [],
   "source": [
    "menorValor(faturamento)"
   ]
  },
  {
   "cell_type": "code",
   "execution_count": null,
   "metadata": {},
   "outputs": [],
   "source": [
    "#O maior valor de faturamento ocorrido em um dia do mês;\n",
    "def maiorValor(listaFaturamento):\n",
    "    maiorValor = faturamento[0]\n",
    "    for i in range(1, len(faturamento)):\n",
    "        if maiorValor<faturamento[i]:\n",
    "            maiorValor=faturamento[i]\n",
    "    return f'O maior valor de faturamento ocorrido em um dia do mes foi {maiorValor}.'"
   ]
  },
  {
   "cell_type": "code",
   "execution_count": null,
   "metadata": {},
   "outputs": [],
   "source": [
    "maiorValor(faturamento)"
   ]
  },
  {
   "cell_type": "code",
   "execution_count": null,
   "metadata": {},
   "outputs": [],
   "source": [
    "#calculando a media mensal:\n",
    "def FaturamentoMaiorQueMedia(listaFaturamento):\n",
    "    media = sum(listaFaturamento)/len(listaFaturamento)\n",
    "    qtd = 0\n",
    "    for i in range (len(faturamento)):\n",
    "        if faturamento[i]>media:\n",
    "            qtd+=1\n",
    "    return f'A quantidade de dias no mês em que o valor de faturamento diário foi superior à média mensal foi {qtd}.'\n",
    "\n"
   ]
  },
  {
   "cell_type": "code",
   "execution_count": null,
   "metadata": {},
   "outputs": [],
   "source": [
    "FaturamentoMaiorQueMedia(faturamento)"
   ]
  }
 ],
 "metadata": {
  "kernelspec": {
   "display_name": "Python 3",
   "language": "python",
   "name": "python3"
  },
  "language_info": {
   "codemirror_mode": {
    "name": "ipython",
    "version": 3
   },
   "file_extension": ".py",
   "mimetype": "text/x-python",
   "name": "python",
   "nbconvert_exporter": "python",
   "pygments_lexer": "ipython3",
   "version": "3.10.12"
  }
 },
 "nbformat": 4,
 "nbformat_minor": 2
}
